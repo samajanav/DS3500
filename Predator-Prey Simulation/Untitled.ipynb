{
 "cells": [
  {
   "cell_type": "code",
   "execution_count": 8,
   "id": "e933e875-28ba-4ebc-8a00-af587c9e4ed4",
   "metadata": {},
   "outputs": [
    {
     "data": {
      "text/plain": [
       "2"
      ]
     },
     "execution_count": 8,
     "metadata": {},
     "output_type": "execute_result"
    }
   ],
   "source": [
    "import random as rnd\n",
    "rnd.randint(1,2)"
   ]
  },
  {
   "cell_type": "code",
   "execution_count": 9,
   "id": "4756f3a1-a80e-40be-b96b-370ea967da00",
   "metadata": {},
   "outputs": [
    {
     "data": {
      "image/png": "[encoded data removed]",
      "text/plain": [
       "<Figure size 1000x1000 with 1 Axes>"
      ]
     },
     "metadata": {},
     "output_type": "display_data"
    },
    {
     "name": "stderr",
     "output_type": "stream",
     "text": [
      "/Users/janavsama/anaconda3/lib/python3.11/site-packages/matplotlib/animation.py:892: UserWarning: Animation was deleted without rendering anything. This is most likely not intended. To prevent deletion, assign the Animation to a variable, e.g. `anim`, that exists until you output the Animation using `plt.show()` or `anim.save()`.\n",
      "  warnings.warn(\n"
     ]
    }
   ],
   "source": [
    "\"\"\"\n",
    "File: alife.py\n",
    "Description: A simple artificial life simulation.\n",
    "\n",
    "\"\"\"\n",
    "import random as rnd\n",
    "import copy\n",
    "import numpy as np\n",
    "import matplotlib.pyplot as plt\n",
    "import matplotlib.animation as animation\n",
    "\n",
    "\n",
    "\n",
    "SIZE = 400    # x/y dimensions of the field\n",
    "WRAP = True  # When moving beyond the border, do we wrap around to the other size\n",
    "OFFSPRING = 5  # The number of offspring when a rabbit reproduces\n",
    "GRASS_RATE = 0.1  # Probability of grass growing at any given location, e.g., 2%\n",
    "INIT_RABBITS = 1 # Number of starting rabbits\n",
    "SPEED = 1  # Number of generations per frame\n",
    "\n",
    "\n",
    "\n",
    "class Rabbit:\n",
    "\n",
    "    def __init__(self):\n",
    "        self.x = rnd.randrange(0, SIZE)\n",
    "        self.y = rnd.randrange(0, SIZE)\n",
    "        self.eaten = 0\n",
    "\n",
    "    def reproduce(self):\n",
    "        self.eaten = 0\n",
    "        return copy.deepcopy(self)\n",
    "\n",
    "\n",
    "    def eat(self, amount):\n",
    "        self.eaten += amount\n",
    "\n",
    "\n",
    "    def move(self):\n",
    "        if WRAP:\n",
    "            self.x = (self.x + rnd.choice([-1, 0, 1])) % SIZE\n",
    "            self.y = (self.y + rnd.choice([-1, 0, 1])) % SIZE\n",
    "        else:\n",
    "            self.x = min(SIZE-1, max(0, (self.x + rnd.choice([-1, 0, 1]))))\n",
    "            self.y = min(SIZE-1, max(0, (self.y + rnd.choice([-1, 0, 1]))))\n",
    "\n",
    "\n",
    "class Field:\n",
    "    \"\"\" A field is a patch of grass with 0 or more rabbits hopping around\n",
    "    in search of grass \"\"\"\n",
    "\n",
    "    def __init__(self):\n",
    "        self.rabbits = []\n",
    "        self.field = np.ones(shape=(SIZE, SIZE), dtype=int)\n",
    "\n",
    "    def add_rabbit(self, rabbit):\n",
    "        self.rabbits.append(rabbit)\n",
    "\n",
    "    def move(self):\n",
    "        for r in self.rabbits:\n",
    "            r.move()\n",
    "\n",
    "    def eat(self):\n",
    "        \"\"\" All rabbits try to eat grass at their current location \"\"\"\n",
    "        for r in self.rabbits:\n",
    "            r.eat(self.field[r.x, r.y])\n",
    "            self.field[r.x, r.y] = 0\n",
    "\n",
    "\n",
    "    def survive(self):\n",
    "        \"\"\" Rabbits that have not eaten die. Otherwise, they live \"\"\"\n",
    "        self.rabbits = [r for r in self.rabbits if r.eaten > 0]\n",
    "\n",
    "\n",
    "    def reproduce(self):\n",
    "        born = []\n",
    "        for r in self.rabbits:\n",
    "            for _ in range(rnd.randint(1,OFFSPRING)):\n",
    "                born.append(r.reproduce())\n",
    "        self.rabbits += born\n",
    "\n",
    "\n",
    "\n",
    "\n",
    "    def grow(self):\n",
    "        growloc = (np.random.rand(SIZE,SIZE) < GRASS_RATE) * 1\n",
    "        self.field = np.maximum(self.field, growloc)\n",
    "\n",
    "    def generation(self):\n",
    "        \"\"\" Run one generation of rabbit actions \"\"\"\n",
    "        self.move()\n",
    "        self.eat()\n",
    "        self.survive()\n",
    "        self.reproduce()\n",
    "        self.grow()\n",
    "\n",
    "def animate(i, field, im):\n",
    "    for _ in range(SPEED):\n",
    "        field.generation()\n",
    "    im.set_array(field.field)\n",
    "    plt.title(\"Generation: \" + str(i * SPEED) + \" Rabbits: \" + str(len(field.rabbits)))\n",
    "    return im,\n",
    "\n",
    "\n",
    "def main():\n",
    "\n",
    "    # Create the ecosystem\n",
    "    field = Field()\n",
    "\n",
    "    # Initialize with some rabbits\n",
    "    for _ in range(INIT_RABBITS):\n",
    "        field.add_rabbit(Rabbit())\n",
    "\n",
    "    # Set up the image object\n",
    "    array = np.ones(shape=(SIZE, SIZE), dtype=int)\n",
    "    fig = plt.figure(figsize=(10,10))\n",
    "    im = plt.imshow(array, cmap='PiYG', interpolation='hamming', aspect='auto', vmin=0, vmax=1)\n",
    "    anim = animation.FuncAnimation(fig, animate, fargs=(field, im), frames=10**100, interval=1, repeat=True)\n",
    "    plt.show()\n",
    "\n",
    "\n",
    "\n",
    "\n",
    "if __name__ == '__main__':\n",
    "    main()\n",
    "\n",
    "\n",
    "\n"
   ]
  },
  {
   "cell_type": "code",
   "execution_count": null,
   "id": "76539e33-6b2d-4b33-ad5b-605061cb20a6",
   "metadata": {},
   "outputs": [],
   "source": [
    "import argparse\n",
    "\n",
    "parser = argparse.ArgumentParser(description='Simulation of foxes and rabbits in a field')\n",
    "parser.add_argument('-g', '--grass_growth_rate', type=float, required=True,\n",
    "                        help='Rate at which grass grows in the field')\n",
    "\n",
    "args = parser.parse_args()\n",
    "\n",
    "print(args.file)"
   ]
  }
 ],
 "metadata": {
  "kernelspec": {
   "display_name": "Python 3 (ipykernel)",
   "language": "python",
   "name": "python3"
  },
  "language_info": {
   "codemirror_mode": {
    "name": "ipython",
    "version": 3
   },
   "file_extension": ".py",
   "mimetype": "text/x-python",
   "name": "python",
   "nbconvert_exporter": "python",
   "pygments_lexer": "ipython3",
   "version": "3.12.1"
  }
 },
 "nbformat": 4,
 "nbformat_minor": 5
}
